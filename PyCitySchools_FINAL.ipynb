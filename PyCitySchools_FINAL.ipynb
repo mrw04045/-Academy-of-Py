{
 "cells": [
  {
   "cell_type": "markdown",
   "metadata": {},
   "source": [
    "# PyCity Schools Analysis\n",
    "\n",
    "* As a whole, schools with higher budgets, did not yield better test results. By contrast, schools with higher spending per student actually (\\$645-675) underperformed compared to schools with smaller budgets (<\\$585 per student).\n",
    "\n",
    "* As a whole, smaller and medium sized schools dramatically out-performed large sized schools on passing math performances (89-91% passing vs 67%).\n",
    "\n",
    "* As a whole, charter schools out-performed the public district schools across all metrics. However, more analysis will be required to glean if the effect is due to school practices or the fact that charter schools tend to serve smaller student populations per school. \n",
    "---"
   ]
  },
  {
   "cell_type": "code",
   "execution_count": 1,
   "metadata": {},
   "outputs": [],
   "source": [
    "# Dependencies and Setup\n",
    "import pandas as pd\n",
    "import numpy as np\n",
    "\n",
    "# File to Load (Remember to Change These)\n",
    "school_data_to_load = \"Resources/schools_complete.csv\"\n",
    "student_data_to_load = \"Resources/students_complete.csv\"\n",
    "\n",
    "# Read School and Student Data File and store into Pandas Data Frames\n",
    "school_data = pd.read_csv(school_data_to_load)\n",
    "student_data = pd.read_csv(student_data_to_load)\n",
    "\n",
    "# Combine the data into a single dataset\n",
    "school_data_complete = pd.merge(student_data, school_data, how=\"left\", on=[\"school_name\", \"school_name\"])"
   ]
  },
  {
   "cell_type": "markdown",
   "metadata": {},
   "source": [
    "## District Summary\n",
    "\n",
    "* Calculate the total number of schools\n",
    "\n",
    "* Calculate the total number of students\n",
    "\n",
    "* Calculate the total budget\n",
    "\n",
    "* Calculate the average math score \n",
    "\n",
    "* Calculate the average reading score\n",
    "\n",
    "* Calculate the overall passing rate (overall average score), i.e. (avg. math score + avg. reading score)/2\n",
    "\n",
    "* Calculate the percentage of students with a passing math score (70 or greater)\n",
    "\n",
    "* Calculate the percentage of students with a passing reading score (70 or greater)\n",
    "\n",
    "* Create a dataframe to hold the above results\n",
    "\n",
    "* Optional: give the displayed data cleaner formatting"
   ]
  },
  {
   "cell_type": "code",
   "execution_count": 2,
   "metadata": {},
   "outputs": [
    {
     "data": {
      "text/plain": [
       "15"
      ]
     },
     "execution_count": 2,
     "metadata": {},
     "output_type": "execute_result"
    }
   ],
   "source": [
    "# Calculate the total number of schools\n",
    "# https://pandas.pydata.org/pandas-docs/stable/reference/api/pandas.DataFrame.nunique.html#pandas.DataFrame.nunique\n",
    "number_schools = school_data_complete[\"school_name\"].nunique()\n",
    "number_schools"
   ]
  },
  {
   "cell_type": "code",
   "execution_count": 3,
   "metadata": {},
   "outputs": [
    {
     "data": {
      "text/plain": [
       "39170"
      ]
     },
     "execution_count": 3,
     "metadata": {},
     "output_type": "execute_result"
    }
   ],
   "source": [
    "# Calculate the total number of students in the district\n",
    "total_students_in_district = school_data_complete[\"student_name\"].count()\n",
    "total_students_in_district"
   ]
  },
  {
   "cell_type": "code",
   "execution_count": 4,
   "metadata": {},
   "outputs": [
    {
     "data": {
      "text/plain": [
       "24649428"
      ]
     },
     "execution_count": 4,
     "metadata": {},
     "output_type": "execute_result"
    }
   ],
   "source": [
    "# Calculate the total district budget\n",
    "total_district_budget = school_data_complete[\"budget\"].unique().sum()\n",
    "total_district_budget"
   ]
  },
  {
   "cell_type": "code",
   "execution_count": 5,
   "metadata": {},
   "outputs": [
    {
     "data": {
      "text/plain": [
       "78.98537145774827"
      ]
     },
     "execution_count": 5,
     "metadata": {},
     "output_type": "execute_result"
    }
   ],
   "source": [
    "# Calculate the average district math score \n",
    "average_district_math_score = school_data_complete[\"math_score\"].mean()\n",
    "average_district_math_score"
   ]
  },
  {
   "cell_type": "code",
   "execution_count": 6,
   "metadata": {},
   "outputs": [
    {
     "data": {
      "text/plain": [
       "81.87784018381414"
      ]
     },
     "execution_count": 6,
     "metadata": {},
     "output_type": "execute_result"
    }
   ],
   "source": [
    "# Calculate the average district reading score\n",
    "average_district_reading_score = school_data_complete[\"reading_score\"].mean()\n",
    "average_district_reading_score"
   ]
  },
  {
   "cell_type": "code",
   "execution_count": 7,
   "metadata": {},
   "outputs": [
    {
     "data": {
      "text/plain": [
       "74.9808526933878"
      ]
     },
     "execution_count": 7,
     "metadata": {},
     "output_type": "execute_result"
    }
   ],
   "source": [
    "# Using 'math score' column, count number of students who passed math (70 or greater)\n",
    "passing_math = school_data_complete[\"math_score\"][school_data_complete[\"math_score\"]>=70].count()\n",
    "\n",
    "# Calculate the percentage of students with a passing math score ('passing_math/total_students) \n",
    "passing_math_percent = (passing_math/total_students_in_district)*100\n",
    "passing_math_percent"
   ]
  },
  {
   "cell_type": "code",
   "execution_count": 8,
   "metadata": {},
   "outputs": [
    {
     "data": {
      "text/plain": [
       "85.80546336482001"
      ]
     },
     "execution_count": 8,
     "metadata": {},
     "output_type": "execute_result"
    }
   ],
   "source": [
    "# Using 'math score' column, count number of students who passed reading (70 or greater)\n",
    "passing_reading = school_data_complete[\"reading_score\"][school_data_complete[\"reading_score\"]>=70].count()\n",
    "\n",
    "# Calculate the percentage of students with a passing reading score ('passing_reading/total_students) \n",
    "passing_reading_percent = (passing_reading/total_students_in_district)*100\n",
    "passing_reading_percent"
   ]
  },
  {
   "cell_type": "code",
   "execution_count": 9,
   "metadata": {},
   "outputs": [
    {
     "data": {
      "text/plain": [
       "80.43160582078121"
      ]
     },
     "execution_count": 9,
     "metadata": {},
     "output_type": "execute_result"
    }
   ],
   "source": [
    "# Calculate the overall passing rate (overall average score), \n",
    "# i.e. (avg. math score + avg. reading score)/2\n",
    "overall_district_average = (average_district_math_score + average_district_reading_score)/2\n",
    "overall_district_average"
   ]
  },
  {
   "cell_type": "code",
   "execution_count": 10,
   "metadata": {},
   "outputs": [],
   "source": [
    "# Create a dataframe to hold stats for district\n",
    "df_district_stats= pd.DataFrame({\"Total # of Schools\": [number_schools],\n",
    "                 \"Total # of Students\": [total_students_in_district],\n",
    "                 \"Total Budget\": [total_district_budget],\n",
    "                 \"Average Math Score\": [average_district_math_score],\n",
    "                 \"Average Reading Score\": [average_district_reading_score],\n",
    "                 \"Overall Average\": [overall_district_average],\n",
    "                 \"Percent Math\": [passing_math_percent],\n",
    "                 \"Percent Reading\": [passing_reading_percent]})"
   ]
  },
  {
   "cell_type": "code",
   "execution_count": 11,
   "metadata": {},
   "outputs": [
    {
     "data": {
      "text/html": [
       "<style  type=\"text/css\" >\n",
       "</style><table id=\"T_98a3cf42_7470_11e9_8437_60f81dc3de38\" ><thead>    <tr>        <th class=\"blank level0\" ></th>        <th class=\"col_heading level0 col0\" >Total # of Schools</th>        <th class=\"col_heading level0 col1\" >Total # of Students</th>        <th class=\"col_heading level0 col2\" >Total Budget</th>        <th class=\"col_heading level0 col3\" >Average Math Score</th>        <th class=\"col_heading level0 col4\" >Average Reading Score</th>        <th class=\"col_heading level0 col5\" >Overall Average</th>        <th class=\"col_heading level0 col6\" >Percent Math</th>        <th class=\"col_heading level0 col7\" >Percent Reading</th>    </tr></thead><tbody>\n",
       "                <tr>\n",
       "                        <th id=\"T_98a3cf42_7470_11e9_8437_60f81dc3de38level0_row0\" class=\"row_heading level0 row0\" >0</th>\n",
       "                        <td id=\"T_98a3cf42_7470_11e9_8437_60f81dc3de38row0_col0\" class=\"data row0 col0\" >15</td>\n",
       "                        <td id=\"T_98a3cf42_7470_11e9_8437_60f81dc3de38row0_col1\" class=\"data row0 col1\" >39,170</td>\n",
       "                        <td id=\"T_98a3cf42_7470_11e9_8437_60f81dc3de38row0_col2\" class=\"data row0 col2\" >$24,649,428</td>\n",
       "                        <td id=\"T_98a3cf42_7470_11e9_8437_60f81dc3de38row0_col3\" class=\"data row0 col3\" >78.9854</td>\n",
       "                        <td id=\"T_98a3cf42_7470_11e9_8437_60f81dc3de38row0_col4\" class=\"data row0 col4\" >81.8778</td>\n",
       "                        <td id=\"T_98a3cf42_7470_11e9_8437_60f81dc3de38row0_col5\" class=\"data row0 col5\" >80.4316</td>\n",
       "                        <td id=\"T_98a3cf42_7470_11e9_8437_60f81dc3de38row0_col6\" class=\"data row0 col6\" >74.9809</td>\n",
       "                        <td id=\"T_98a3cf42_7470_11e9_8437_60f81dc3de38row0_col7\" class=\"data row0 col7\" >85.8055</td>\n",
       "            </tr>\n",
       "    </tbody></table>"
      ],
      "text/plain": [
       "<pandas.io.formats.style.Styler at 0x1220d2438>"
      ]
     },
     "execution_count": 11,
     "metadata": {},
     "output_type": "execute_result"
    }
   ],
   "source": [
    "# Format dataframe\n",
    "df_district_stats_formatted = df_district_stats.style.format({\"Total # of Students\": \"{:,}\",\n",
    "                          \"Total Budget\": \"${:,}\"})\n",
    "\n",
    "df_district_stats_formatted"
   ]
  },
  {
   "cell_type": "markdown",
   "metadata": {},
   "source": [
    "## School Summary"
   ]
  },
  {
   "cell_type": "markdown",
   "metadata": {},
   "source": [
    "* Create an overview table that summarizes key metrics about each school, including:\n",
    "  * School Name\n",
    "  * School Type\n",
    "  * Total Students\n",
    "  * Total School Budget\n",
    "  * Per Student Budget\n",
    "  * Average Math Score\n",
    "  * Average Reading Score\n",
    "  * % Passing Math\n",
    "  * % Passing Reading\n",
    "  * Overall Passing Rate (Average of the above two)\n",
    "  \n",
    "* Create a dataframe to hold the above results"
   ]
  },
  {
   "cell_type": "code",
   "execution_count": 12,
   "metadata": {},
   "outputs": [],
   "source": [
    "# Create list of all school names\n",
    "school_names = school_data_complete[\"school_name\"].unique()"
   ]
  },
  {
   "cell_type": "code",
   "execution_count": 13,
   "metadata": {},
   "outputs": [],
   "source": [
    "# Create dictionary to store stats per school\n",
    "stats_per_school = {}\n",
    "\n",
    "# Loop through all school names\n",
    "for school in school_names:\n",
    "    # Within dictionary create a key for each school name with an empty list of values\n",
    "    stats_per_school[str(school)] = []"
   ]
  },
  {
   "cell_type": "code",
   "execution_count": 14,
   "metadata": {},
   "outputs": [],
   "source": [
    "# Loop through all school names \n",
    "for school in school_names:\n",
    "    # create dataframe with only the data of one school\n",
    "    df = school_data_complete.loc[school_data_complete[\"school_name\"]== school]\n",
    "    \n",
    "    # Calculate Total Students per school\n",
    "    total_students = len(df)\n",
    "    \n",
    "    # Find School Type by reseting index and looking at first row in the 'type' column\n",
    "    df = df.reset_index()\n",
    "    school_type = df.loc[0].at[\"type\"]\n",
    "    \n",
    "    # Calculate School Budget per school by looking at first row in the 'budget' column\n",
    "    budget = df.loc[0].at[\"budget\"]\n",
    "    \n",
    "    # Calculate Per Student Budget for every school ('budget/total_students')\n",
    "    per_student_budget = budget/total_students\n",
    "    \n",
    "    # Calculate Average Math Score per school\n",
    "    avg_math_score = df[\"math_score\"].mean()\n",
    "    \n",
    "    # Calculate Average Reading Score per school\n",
    "    avg_reading_score = df[\"reading_score\"].mean()\n",
    "    \n",
    "    # Calculate number of students passing math\n",
    "    passing_math_per_school = df[\"math_score\"][df[\"math_score\"]>=70].count()\n",
    "    # Convert students passing math to a percent\n",
    "    passing_math_per_school_percent = (passing_math_per_school/total_students)*100\n",
    "    \n",
    "    # Calculate number of students passing reading\n",
    "    passing_reading_per_school = df[\"reading_score\"][df[\"reading_score\"]>=70].count()\n",
    "    # Convert students passing reading to a percent\n",
    "    passing_reading_per_school_percent = (passing_reading_per_school/total_students)*100\n",
    "    \n",
    "    # Calculate Overall Passing Rate (Average of the above two) per school\n",
    "    overall_average_per_school = (passing_math_per_school_percent + passing_reading_per_school_percent)/2\n",
    "    overall_average_per_school\n",
    "    \n",
    "    # Update dictionary 'unique_school_stats' with above stats for current 'school' in loop\n",
    "    stats_per_school[school] = {\"Total Students\": total_students,\n",
    "                                   \"School Type\": school_type,\n",
    "                                   \"Total School Budget\": budget,\n",
    "                                  \"Per Student Budget\": per_student_budget,\n",
    "                                  \"Average Math Score\": avg_math_score,\n",
    "                                  \"Average Reading Score\": avg_reading_score,\n",
    "                                  \"% Overall Passing Rate\": overall_average_per_school,\n",
    "                                  \"% Passing Math\": passing_math_per_school_percent,\n",
    "                                  \"% Passing Reading\": passing_reading_per_school_percent} "
   ]
  },
  {
   "cell_type": "code",
   "execution_count": 15,
   "metadata": {
    "scrolled": true
   },
   "outputs": [],
   "source": [
    "# Convert dictionary 'unique_school_stats' to a DataFrame\n",
    "df_stats_per_school = pd.DataFrame(stats_per_school)\n",
    "\n",
    "# Transpose rows and columns of DataFrame\n",
    "df_stats_per_school = df_stats_per_school.transpose()\n",
    "\n",
    "# Rearrange the order of the columns\n",
    "df_stats_per_school = df_stats_per_school[['School Type', 'Total Students', 'Total School Budget', 'Per Student Budget',\n",
    "                                          'Average Math Score', 'Average Reading Score', '% Passing Math',\n",
    "                                          '% Passing Reading', '% Overall Passing Rate']]"
   ]
  },
  {
   "cell_type": "markdown",
   "metadata": {},
   "source": [
    "## Top Performing Schools (By Passing Rate)"
   ]
  },
  {
   "cell_type": "markdown",
   "metadata": {},
   "source": [
    "* Sort and display the top five schools in overall passing rate"
   ]
  },
  {
   "cell_type": "code",
   "execution_count": 16,
   "metadata": {
    "scrolled": true
   },
   "outputs": [],
   "source": [
    "# Sort 'df_stats_per_school' in decending order using '% overall passing rate'\n",
    "# Create dataframe of top five schools using head()\n",
    "df_top_five = df_stats_per_school.sort_values('% Overall Passing Rate', ascending=False).head()"
   ]
  },
  {
   "cell_type": "code",
   "execution_count": 17,
   "metadata": {},
   "outputs": [
    {
     "data": {
      "text/html": [
       "<style  type=\"text/css\" >\n",
       "</style><table id=\"T_9cf17cac_7470_11e9_8437_60f81dc3de38\" ><thead>    <tr>        <th class=\"blank level0\" ></th>        <th class=\"col_heading level0 col0\" >School Type</th>        <th class=\"col_heading level0 col1\" >Total Students</th>        <th class=\"col_heading level0 col2\" >Total School Budget</th>        <th class=\"col_heading level0 col3\" >Per Student Budget</th>        <th class=\"col_heading level0 col4\" >Average Math Score</th>        <th class=\"col_heading level0 col5\" >Average Reading Score</th>        <th class=\"col_heading level0 col6\" >% Passing Math</th>        <th class=\"col_heading level0 col7\" >% Passing Reading</th>        <th class=\"col_heading level0 col8\" >% Overall Passing Rate</th>    </tr></thead><tbody>\n",
       "                <tr>\n",
       "                        <th id=\"T_9cf17cac_7470_11e9_8437_60f81dc3de38level0_row0\" class=\"row_heading level0 row0\" >Cabrera High School</th>\n",
       "                        <td id=\"T_9cf17cac_7470_11e9_8437_60f81dc3de38row0_col0\" class=\"data row0 col0\" >Charter</td>\n",
       "                        <td id=\"T_9cf17cac_7470_11e9_8437_60f81dc3de38row0_col1\" class=\"data row0 col1\" >1,858</td>\n",
       "                        <td id=\"T_9cf17cac_7470_11e9_8437_60f81dc3de38row0_col2\" class=\"data row0 col2\" >$1,081,356</td>\n",
       "                        <td id=\"T_9cf17cac_7470_11e9_8437_60f81dc3de38row0_col3\" class=\"data row0 col3\" >582</td>\n",
       "                        <td id=\"T_9cf17cac_7470_11e9_8437_60f81dc3de38row0_col4\" class=\"data row0 col4\" >83.0619</td>\n",
       "                        <td id=\"T_9cf17cac_7470_11e9_8437_60f81dc3de38row0_col5\" class=\"data row0 col5\" >83.9758</td>\n",
       "                        <td id=\"T_9cf17cac_7470_11e9_8437_60f81dc3de38row0_col6\" class=\"data row0 col6\" >94.1335</td>\n",
       "                        <td id=\"T_9cf17cac_7470_11e9_8437_60f81dc3de38row0_col7\" class=\"data row0 col7\" >97.0398</td>\n",
       "                        <td id=\"T_9cf17cac_7470_11e9_8437_60f81dc3de38row0_col8\" class=\"data row0 col8\" >95.5867</td>\n",
       "            </tr>\n",
       "            <tr>\n",
       "                        <th id=\"T_9cf17cac_7470_11e9_8437_60f81dc3de38level0_row1\" class=\"row_heading level0 row1\" >Thomas High School</th>\n",
       "                        <td id=\"T_9cf17cac_7470_11e9_8437_60f81dc3de38row1_col0\" class=\"data row1 col0\" >Charter</td>\n",
       "                        <td id=\"T_9cf17cac_7470_11e9_8437_60f81dc3de38row1_col1\" class=\"data row1 col1\" >1,635</td>\n",
       "                        <td id=\"T_9cf17cac_7470_11e9_8437_60f81dc3de38row1_col2\" class=\"data row1 col2\" >$1,043,130</td>\n",
       "                        <td id=\"T_9cf17cac_7470_11e9_8437_60f81dc3de38row1_col3\" class=\"data row1 col3\" >638</td>\n",
       "                        <td id=\"T_9cf17cac_7470_11e9_8437_60f81dc3de38row1_col4\" class=\"data row1 col4\" >83.4183</td>\n",
       "                        <td id=\"T_9cf17cac_7470_11e9_8437_60f81dc3de38row1_col5\" class=\"data row1 col5\" >83.8489</td>\n",
       "                        <td id=\"T_9cf17cac_7470_11e9_8437_60f81dc3de38row1_col6\" class=\"data row1 col6\" >93.2722</td>\n",
       "                        <td id=\"T_9cf17cac_7470_11e9_8437_60f81dc3de38row1_col7\" class=\"data row1 col7\" >97.3089</td>\n",
       "                        <td id=\"T_9cf17cac_7470_11e9_8437_60f81dc3de38row1_col8\" class=\"data row1 col8\" >95.2905</td>\n",
       "            </tr>\n",
       "            <tr>\n",
       "                        <th id=\"T_9cf17cac_7470_11e9_8437_60f81dc3de38level0_row2\" class=\"row_heading level0 row2\" >Pena High School</th>\n",
       "                        <td id=\"T_9cf17cac_7470_11e9_8437_60f81dc3de38row2_col0\" class=\"data row2 col0\" >Charter</td>\n",
       "                        <td id=\"T_9cf17cac_7470_11e9_8437_60f81dc3de38row2_col1\" class=\"data row2 col1\" >962</td>\n",
       "                        <td id=\"T_9cf17cac_7470_11e9_8437_60f81dc3de38row2_col2\" class=\"data row2 col2\" >$585,858</td>\n",
       "                        <td id=\"T_9cf17cac_7470_11e9_8437_60f81dc3de38row2_col3\" class=\"data row2 col3\" >609</td>\n",
       "                        <td id=\"T_9cf17cac_7470_11e9_8437_60f81dc3de38row2_col4\" class=\"data row2 col4\" >83.8399</td>\n",
       "                        <td id=\"T_9cf17cac_7470_11e9_8437_60f81dc3de38row2_col5\" class=\"data row2 col5\" >84.0447</td>\n",
       "                        <td id=\"T_9cf17cac_7470_11e9_8437_60f81dc3de38row2_col6\" class=\"data row2 col6\" >94.5946</td>\n",
       "                        <td id=\"T_9cf17cac_7470_11e9_8437_60f81dc3de38row2_col7\" class=\"data row2 col7\" >95.9459</td>\n",
       "                        <td id=\"T_9cf17cac_7470_11e9_8437_60f81dc3de38row2_col8\" class=\"data row2 col8\" >95.2703</td>\n",
       "            </tr>\n",
       "            <tr>\n",
       "                        <th id=\"T_9cf17cac_7470_11e9_8437_60f81dc3de38level0_row3\" class=\"row_heading level0 row3\" >Griffin High School</th>\n",
       "                        <td id=\"T_9cf17cac_7470_11e9_8437_60f81dc3de38row3_col0\" class=\"data row3 col0\" >Charter</td>\n",
       "                        <td id=\"T_9cf17cac_7470_11e9_8437_60f81dc3de38row3_col1\" class=\"data row3 col1\" >1,468</td>\n",
       "                        <td id=\"T_9cf17cac_7470_11e9_8437_60f81dc3de38row3_col2\" class=\"data row3 col2\" >$917,500</td>\n",
       "                        <td id=\"T_9cf17cac_7470_11e9_8437_60f81dc3de38row3_col3\" class=\"data row3 col3\" >625</td>\n",
       "                        <td id=\"T_9cf17cac_7470_11e9_8437_60f81dc3de38row3_col4\" class=\"data row3 col4\" >83.3515</td>\n",
       "                        <td id=\"T_9cf17cac_7470_11e9_8437_60f81dc3de38row3_col5\" class=\"data row3 col5\" >83.8168</td>\n",
       "                        <td id=\"T_9cf17cac_7470_11e9_8437_60f81dc3de38row3_col6\" class=\"data row3 col6\" >93.3924</td>\n",
       "                        <td id=\"T_9cf17cac_7470_11e9_8437_60f81dc3de38row3_col7\" class=\"data row3 col7\" >97.139</td>\n",
       "                        <td id=\"T_9cf17cac_7470_11e9_8437_60f81dc3de38row3_col8\" class=\"data row3 col8\" >95.2657</td>\n",
       "            </tr>\n",
       "            <tr>\n",
       "                        <th id=\"T_9cf17cac_7470_11e9_8437_60f81dc3de38level0_row4\" class=\"row_heading level0 row4\" >Wilson High School</th>\n",
       "                        <td id=\"T_9cf17cac_7470_11e9_8437_60f81dc3de38row4_col0\" class=\"data row4 col0\" >Charter</td>\n",
       "                        <td id=\"T_9cf17cac_7470_11e9_8437_60f81dc3de38row4_col1\" class=\"data row4 col1\" >2,283</td>\n",
       "                        <td id=\"T_9cf17cac_7470_11e9_8437_60f81dc3de38row4_col2\" class=\"data row4 col2\" >$1,319,574</td>\n",
       "                        <td id=\"T_9cf17cac_7470_11e9_8437_60f81dc3de38row4_col3\" class=\"data row4 col3\" >578</td>\n",
       "                        <td id=\"T_9cf17cac_7470_11e9_8437_60f81dc3de38row4_col4\" class=\"data row4 col4\" >83.2742</td>\n",
       "                        <td id=\"T_9cf17cac_7470_11e9_8437_60f81dc3de38row4_col5\" class=\"data row4 col5\" >83.9895</td>\n",
       "                        <td id=\"T_9cf17cac_7470_11e9_8437_60f81dc3de38row4_col6\" class=\"data row4 col6\" >93.8677</td>\n",
       "                        <td id=\"T_9cf17cac_7470_11e9_8437_60f81dc3de38row4_col7\" class=\"data row4 col7\" >96.5396</td>\n",
       "                        <td id=\"T_9cf17cac_7470_11e9_8437_60f81dc3de38row4_col8\" class=\"data row4 col8\" >95.2037</td>\n",
       "            </tr>\n",
       "    </tbody></table>"
      ],
      "text/plain": [
       "<pandas.io.formats.style.Styler at 0x124b07240>"
      ]
     },
     "execution_count": 17,
     "metadata": {},
     "output_type": "execute_result"
    }
   ],
   "source": [
    "# Format dataframe\n",
    "df_top_five_formatted = df_top_five.style.format({\"Total Students\": \"{:,}\",\n",
    "                          \"Total School Budget\": \"${:,}\"})\n",
    "\n",
    "df_top_five_formatted"
   ]
  },
  {
   "cell_type": "markdown",
   "metadata": {},
   "source": [
    "## Bottom Performing Schools (By Passing Rate)"
   ]
  },
  {
   "cell_type": "markdown",
   "metadata": {},
   "source": [
    "* Sort and display the five worst-performing schools"
   ]
  },
  {
   "cell_type": "code",
   "execution_count": 18,
   "metadata": {},
   "outputs": [],
   "source": [
    "# Sort 'df_stats_per_school' in ascending order using '% overall passing rate'\n",
    "# Create dataframe of bottom five schools using head()\n",
    "df_bottom_five = df_stats_per_school.sort_values('% Overall Passing Rate').head()"
   ]
  },
  {
   "cell_type": "code",
   "execution_count": 19,
   "metadata": {},
   "outputs": [
    {
     "data": {
      "text/html": [
       "<style  type=\"text/css\" >\n",
       "</style><table id=\"T_9dfa0ff6_7470_11e9_8437_60f81dc3de38\" ><thead>    <tr>        <th class=\"blank level0\" ></th>        <th class=\"col_heading level0 col0\" >School Type</th>        <th class=\"col_heading level0 col1\" >Total Students</th>        <th class=\"col_heading level0 col2\" >Total School Budget</th>        <th class=\"col_heading level0 col3\" >Per Student Budget</th>        <th class=\"col_heading level0 col4\" >Average Math Score</th>        <th class=\"col_heading level0 col5\" >Average Reading Score</th>        <th class=\"col_heading level0 col6\" >% Passing Math</th>        <th class=\"col_heading level0 col7\" >% Passing Reading</th>        <th class=\"col_heading level0 col8\" >% Overall Passing Rate</th>    </tr></thead><tbody>\n",
       "                <tr>\n",
       "                        <th id=\"T_9dfa0ff6_7470_11e9_8437_60f81dc3de38level0_row0\" class=\"row_heading level0 row0\" >Rodriguez High School</th>\n",
       "                        <td id=\"T_9dfa0ff6_7470_11e9_8437_60f81dc3de38row0_col0\" class=\"data row0 col0\" >District</td>\n",
       "                        <td id=\"T_9dfa0ff6_7470_11e9_8437_60f81dc3de38row0_col1\" class=\"data row0 col1\" >3,999</td>\n",
       "                        <td id=\"T_9dfa0ff6_7470_11e9_8437_60f81dc3de38row0_col2\" class=\"data row0 col2\" >$2,547,363</td>\n",
       "                        <td id=\"T_9dfa0ff6_7470_11e9_8437_60f81dc3de38row0_col3\" class=\"data row0 col3\" >637</td>\n",
       "                        <td id=\"T_9dfa0ff6_7470_11e9_8437_60f81dc3de38row0_col4\" class=\"data row0 col4\" >76.8427</td>\n",
       "                        <td id=\"T_9dfa0ff6_7470_11e9_8437_60f81dc3de38row0_col5\" class=\"data row0 col5\" >80.7447</td>\n",
       "                        <td id=\"T_9dfa0ff6_7470_11e9_8437_60f81dc3de38row0_col6\" class=\"data row0 col6\" >66.3666</td>\n",
       "                        <td id=\"T_9dfa0ff6_7470_11e9_8437_60f81dc3de38row0_col7\" class=\"data row0 col7\" >80.2201</td>\n",
       "                        <td id=\"T_9dfa0ff6_7470_11e9_8437_60f81dc3de38row0_col8\" class=\"data row0 col8\" >73.2933</td>\n",
       "            </tr>\n",
       "            <tr>\n",
       "                        <th id=\"T_9dfa0ff6_7470_11e9_8437_60f81dc3de38level0_row1\" class=\"row_heading level0 row1\" >Figueroa High School</th>\n",
       "                        <td id=\"T_9dfa0ff6_7470_11e9_8437_60f81dc3de38row1_col0\" class=\"data row1 col0\" >District</td>\n",
       "                        <td id=\"T_9dfa0ff6_7470_11e9_8437_60f81dc3de38row1_col1\" class=\"data row1 col1\" >2,949</td>\n",
       "                        <td id=\"T_9dfa0ff6_7470_11e9_8437_60f81dc3de38row1_col2\" class=\"data row1 col2\" >$1,884,411</td>\n",
       "                        <td id=\"T_9dfa0ff6_7470_11e9_8437_60f81dc3de38row1_col3\" class=\"data row1 col3\" >639</td>\n",
       "                        <td id=\"T_9dfa0ff6_7470_11e9_8437_60f81dc3de38row1_col4\" class=\"data row1 col4\" >76.7118</td>\n",
       "                        <td id=\"T_9dfa0ff6_7470_11e9_8437_60f81dc3de38row1_col5\" class=\"data row1 col5\" >81.158</td>\n",
       "                        <td id=\"T_9dfa0ff6_7470_11e9_8437_60f81dc3de38row1_col6\" class=\"data row1 col6\" >65.9885</td>\n",
       "                        <td id=\"T_9dfa0ff6_7470_11e9_8437_60f81dc3de38row1_col7\" class=\"data row1 col7\" >80.7392</td>\n",
       "                        <td id=\"T_9dfa0ff6_7470_11e9_8437_60f81dc3de38row1_col8\" class=\"data row1 col8\" >73.3639</td>\n",
       "            </tr>\n",
       "            <tr>\n",
       "                        <th id=\"T_9dfa0ff6_7470_11e9_8437_60f81dc3de38level0_row2\" class=\"row_heading level0 row2\" >Huang High School</th>\n",
       "                        <td id=\"T_9dfa0ff6_7470_11e9_8437_60f81dc3de38row2_col0\" class=\"data row2 col0\" >District</td>\n",
       "                        <td id=\"T_9dfa0ff6_7470_11e9_8437_60f81dc3de38row2_col1\" class=\"data row2 col1\" >2,917</td>\n",
       "                        <td id=\"T_9dfa0ff6_7470_11e9_8437_60f81dc3de38row2_col2\" class=\"data row2 col2\" >$1,910,635</td>\n",
       "                        <td id=\"T_9dfa0ff6_7470_11e9_8437_60f81dc3de38row2_col3\" class=\"data row2 col3\" >655</td>\n",
       "                        <td id=\"T_9dfa0ff6_7470_11e9_8437_60f81dc3de38row2_col4\" class=\"data row2 col4\" >76.6294</td>\n",
       "                        <td id=\"T_9dfa0ff6_7470_11e9_8437_60f81dc3de38row2_col5\" class=\"data row2 col5\" >81.1827</td>\n",
       "                        <td id=\"T_9dfa0ff6_7470_11e9_8437_60f81dc3de38row2_col6\" class=\"data row2 col6\" >65.6839</td>\n",
       "                        <td id=\"T_9dfa0ff6_7470_11e9_8437_60f81dc3de38row2_col7\" class=\"data row2 col7\" >81.3164</td>\n",
       "                        <td id=\"T_9dfa0ff6_7470_11e9_8437_60f81dc3de38row2_col8\" class=\"data row2 col8\" >73.5002</td>\n",
       "            </tr>\n",
       "            <tr>\n",
       "                        <th id=\"T_9dfa0ff6_7470_11e9_8437_60f81dc3de38level0_row3\" class=\"row_heading level0 row3\" >Johnson High School</th>\n",
       "                        <td id=\"T_9dfa0ff6_7470_11e9_8437_60f81dc3de38row3_col0\" class=\"data row3 col0\" >District</td>\n",
       "                        <td id=\"T_9dfa0ff6_7470_11e9_8437_60f81dc3de38row3_col1\" class=\"data row3 col1\" >4,761</td>\n",
       "                        <td id=\"T_9dfa0ff6_7470_11e9_8437_60f81dc3de38row3_col2\" class=\"data row3 col2\" >$3,094,650</td>\n",
       "                        <td id=\"T_9dfa0ff6_7470_11e9_8437_60f81dc3de38row3_col3\" class=\"data row3 col3\" >650</td>\n",
       "                        <td id=\"T_9dfa0ff6_7470_11e9_8437_60f81dc3de38row3_col4\" class=\"data row3 col4\" >77.0725</td>\n",
       "                        <td id=\"T_9dfa0ff6_7470_11e9_8437_60f81dc3de38row3_col5\" class=\"data row3 col5\" >80.9664</td>\n",
       "                        <td id=\"T_9dfa0ff6_7470_11e9_8437_60f81dc3de38row3_col6\" class=\"data row3 col6\" >66.0576</td>\n",
       "                        <td id=\"T_9dfa0ff6_7470_11e9_8437_60f81dc3de38row3_col7\" class=\"data row3 col7\" >81.2224</td>\n",
       "                        <td id=\"T_9dfa0ff6_7470_11e9_8437_60f81dc3de38row3_col8\" class=\"data row3 col8\" >73.64</td>\n",
       "            </tr>\n",
       "            <tr>\n",
       "                        <th id=\"T_9dfa0ff6_7470_11e9_8437_60f81dc3de38level0_row4\" class=\"row_heading level0 row4\" >Ford High School</th>\n",
       "                        <td id=\"T_9dfa0ff6_7470_11e9_8437_60f81dc3de38row4_col0\" class=\"data row4 col0\" >District</td>\n",
       "                        <td id=\"T_9dfa0ff6_7470_11e9_8437_60f81dc3de38row4_col1\" class=\"data row4 col1\" >2,739</td>\n",
       "                        <td id=\"T_9dfa0ff6_7470_11e9_8437_60f81dc3de38row4_col2\" class=\"data row4 col2\" >$1,763,916</td>\n",
       "                        <td id=\"T_9dfa0ff6_7470_11e9_8437_60f81dc3de38row4_col3\" class=\"data row4 col3\" >644</td>\n",
       "                        <td id=\"T_9dfa0ff6_7470_11e9_8437_60f81dc3de38row4_col4\" class=\"data row4 col4\" >77.1026</td>\n",
       "                        <td id=\"T_9dfa0ff6_7470_11e9_8437_60f81dc3de38row4_col5\" class=\"data row4 col5\" >80.7463</td>\n",
       "                        <td id=\"T_9dfa0ff6_7470_11e9_8437_60f81dc3de38row4_col6\" class=\"data row4 col6\" >68.3096</td>\n",
       "                        <td id=\"T_9dfa0ff6_7470_11e9_8437_60f81dc3de38row4_col7\" class=\"data row4 col7\" >79.299</td>\n",
       "                        <td id=\"T_9dfa0ff6_7470_11e9_8437_60f81dc3de38row4_col8\" class=\"data row4 col8\" >73.8043</td>\n",
       "            </tr>\n",
       "    </tbody></table>"
      ],
      "text/plain": [
       "<pandas.io.formats.style.Styler at 0x124b01160>"
      ]
     },
     "execution_count": 19,
     "metadata": {},
     "output_type": "execute_result"
    }
   ],
   "source": [
    "# Format dataframe\n",
    "df_bottom_five_formatted = df_bottom_five.style.format({\"Total Students\": \"{:,}\",\n",
    "                          \"Total School Budget\": \"${:,}\"})\n",
    "df_bottom_five_formatted"
   ]
  },
  {
   "cell_type": "markdown",
   "metadata": {
    "collapsed": true
   },
   "source": [
    "## Math Scores by Grade"
   ]
  },
  {
   "cell_type": "markdown",
   "metadata": {},
   "source": [
    "* Create a table that lists the average Reading Score for students of each grade level (9th, 10th, 11th, 12th) at each school.\n",
    "\n",
    "  * Create a pandas series for each grade. Hint: use a conditional statement.\n",
    "  \n",
    "  * Group each series by school\n",
    "  \n",
    "  * Combine the series into a dataframe\n",
    "  \n",
    "  * Optional: give the displayed data cleaner formatting"
   ]
  },
  {
   "cell_type": "code",
   "execution_count": 20,
   "metadata": {},
   "outputs": [
    {
     "data": {
      "text/html": [
       "<div>\n",
       "<style scoped>\n",
       "    .dataframe tbody tr th:only-of-type {\n",
       "        vertical-align: middle;\n",
       "    }\n",
       "\n",
       "    .dataframe tbody tr th {\n",
       "        vertical-align: top;\n",
       "    }\n",
       "\n",
       "    .dataframe thead th {\n",
       "        text-align: right;\n",
       "    }\n",
       "</style>\n",
       "<table border=\"1\" class=\"dataframe\">\n",
       "  <thead>\n",
       "    <tr style=\"text-align: right;\">\n",
       "      <th></th>\n",
       "      <th>9th</th>\n",
       "      <th>10th</th>\n",
       "      <th>11th</th>\n",
       "      <th>12th</th>\n",
       "    </tr>\n",
       "    <tr>\n",
       "      <th>school_name</th>\n",
       "      <th></th>\n",
       "      <th></th>\n",
       "      <th></th>\n",
       "      <th></th>\n",
       "    </tr>\n",
       "  </thead>\n",
       "  <tbody>\n",
       "    <tr>\n",
       "      <th>Bailey High School</th>\n",
       "      <td>77.083676</td>\n",
       "      <td>76.996772</td>\n",
       "      <td>77.515588</td>\n",
       "      <td>76.492218</td>\n",
       "    </tr>\n",
       "    <tr>\n",
       "      <th>Cabrera High School</th>\n",
       "      <td>83.094697</td>\n",
       "      <td>83.154506</td>\n",
       "      <td>82.765560</td>\n",
       "      <td>83.277487</td>\n",
       "    </tr>\n",
       "    <tr>\n",
       "      <th>Figueroa High School</th>\n",
       "      <td>76.403037</td>\n",
       "      <td>76.539974</td>\n",
       "      <td>76.884344</td>\n",
       "      <td>77.151369</td>\n",
       "    </tr>\n",
       "    <tr>\n",
       "      <th>Ford High School</th>\n",
       "      <td>77.361345</td>\n",
       "      <td>77.672316</td>\n",
       "      <td>76.918058</td>\n",
       "      <td>76.179963</td>\n",
       "    </tr>\n",
       "    <tr>\n",
       "      <th>Griffin High School</th>\n",
       "      <td>82.044010</td>\n",
       "      <td>84.229064</td>\n",
       "      <td>83.842105</td>\n",
       "      <td>83.356164</td>\n",
       "    </tr>\n",
       "    <tr>\n",
       "      <th>Hernandez High School</th>\n",
       "      <td>77.438495</td>\n",
       "      <td>77.337408</td>\n",
       "      <td>77.136029</td>\n",
       "      <td>77.186567</td>\n",
       "    </tr>\n",
       "    <tr>\n",
       "      <th>Holden High School</th>\n",
       "      <td>83.787402</td>\n",
       "      <td>83.429825</td>\n",
       "      <td>85.000000</td>\n",
       "      <td>82.855422</td>\n",
       "    </tr>\n",
       "    <tr>\n",
       "      <th>Huang High School</th>\n",
       "      <td>77.027251</td>\n",
       "      <td>75.908735</td>\n",
       "      <td>76.446602</td>\n",
       "      <td>77.225641</td>\n",
       "    </tr>\n",
       "    <tr>\n",
       "      <th>Johnson High School</th>\n",
       "      <td>77.187857</td>\n",
       "      <td>76.691117</td>\n",
       "      <td>77.491653</td>\n",
       "      <td>76.863248</td>\n",
       "    </tr>\n",
       "    <tr>\n",
       "      <th>Pena High School</th>\n",
       "      <td>83.625455</td>\n",
       "      <td>83.372000</td>\n",
       "      <td>84.328125</td>\n",
       "      <td>84.121547</td>\n",
       "    </tr>\n",
       "    <tr>\n",
       "      <th>Rodriguez High School</th>\n",
       "      <td>76.859966</td>\n",
       "      <td>76.612500</td>\n",
       "      <td>76.395626</td>\n",
       "      <td>77.690748</td>\n",
       "    </tr>\n",
       "    <tr>\n",
       "      <th>Shelton High School</th>\n",
       "      <td>83.420755</td>\n",
       "      <td>82.917411</td>\n",
       "      <td>83.383495</td>\n",
       "      <td>83.778976</td>\n",
       "    </tr>\n",
       "    <tr>\n",
       "      <th>Thomas High School</th>\n",
       "      <td>83.590022</td>\n",
       "      <td>83.087886</td>\n",
       "      <td>83.498795</td>\n",
       "      <td>83.497041</td>\n",
       "    </tr>\n",
       "    <tr>\n",
       "      <th>Wilson High School</th>\n",
       "      <td>83.085578</td>\n",
       "      <td>83.724422</td>\n",
       "      <td>83.195326</td>\n",
       "      <td>83.035794</td>\n",
       "    </tr>\n",
       "    <tr>\n",
       "      <th>Wright High School</th>\n",
       "      <td>83.264706</td>\n",
       "      <td>84.010288</td>\n",
       "      <td>83.836782</td>\n",
       "      <td>83.644986</td>\n",
       "    </tr>\n",
       "  </tbody>\n",
       "</table>\n",
       "</div>"
      ],
      "text/plain": [
       "                             9th       10th       11th       12th\n",
       "school_name                                                      \n",
       "Bailey High School     77.083676  76.996772  77.515588  76.492218\n",
       "Cabrera High School    83.094697  83.154506  82.765560  83.277487\n",
       "Figueroa High School   76.403037  76.539974  76.884344  77.151369\n",
       "Ford High School       77.361345  77.672316  76.918058  76.179963\n",
       "Griffin High School    82.044010  84.229064  83.842105  83.356164\n",
       "Hernandez High School  77.438495  77.337408  77.136029  77.186567\n",
       "Holden High School     83.787402  83.429825  85.000000  82.855422\n",
       "Huang High School      77.027251  75.908735  76.446602  77.225641\n",
       "Johnson High School    77.187857  76.691117  77.491653  76.863248\n",
       "Pena High School       83.625455  83.372000  84.328125  84.121547\n",
       "Rodriguez High School  76.859966  76.612500  76.395626  77.690748\n",
       "Shelton High School    83.420755  82.917411  83.383495  83.778976\n",
       "Thomas High School     83.590022  83.087886  83.498795  83.497041\n",
       "Wilson High School     83.085578  83.724422  83.195326  83.035794\n",
       "Wright High School     83.264706  84.010288  83.836782  83.644986"
      ]
     },
     "execution_count": 20,
     "metadata": {},
     "output_type": "execute_result"
    }
   ],
   "source": [
    "# Create dataframe that includes only students in 9th grade\n",
    "ninth = school_data_complete.loc[school_data_complete[\"grade\"] == \"9th\"]\n",
    "# Group students by 'school_name' and calculate mean of 'math_score' for each school\n",
    "ninth_avg_math_score = ninth.groupby(\"school_name\")[\"math_score\"].mean()\n",
    "\n",
    "# Create dataframe that includes only students in 10th grade\n",
    "tenth = school_data_complete.loc[school_data_complete[\"grade\"] == \"10th\"]\n",
    "# Group students by 'school_name' and calculate mean of 'math_score' for each school\n",
    "tenth_avg_math_score = tenth.groupby(\"school_name\")[\"math_score\"].mean()\n",
    "\n",
    "# Create dataframe that includes only students in 11th grade\n",
    "eleventh = school_data_complete.loc[school_data_complete[\"grade\"] == \"11th\"]\n",
    "# Group students by 'school_name' and calculate mean of 'math_score' for each school\n",
    "eleventh_avg_math_score = eleventh.groupby(\"school_name\")[\"math_score\"].mean()\n",
    "\n",
    "# Create dataframe that includes only students in 12th grade\n",
    "twelvth = school_data_complete.loc[school_data_complete[\"grade\"] == \"12th\"]\n",
    "# Group students by 'school_name' and calculate mean of 'math_score' for each school\n",
    "twelvth_avg_math_score = twelvth.groupby(\"school_name\")[\"math_score\"].mean()\n",
    "\n",
    "# Combine all series from above into a dataframe using grade (\"9th\", \"10th\", etc.) as column headers\n",
    "# Index of rows will be 'school_name' since the above series were all grouped by 'school_name'\n",
    "math_scores_by_grade = pd.DataFrame({\"9th\": ninth_avg_math_score,\n",
    "                        \"10th\": tenth_avg_math_score,\n",
    "                        \"11th\": eleventh_avg_math_score,\n",
    "                        \"12th\": twelvth_avg_math_score})\n",
    "\n",
    "math_scores_by_grade"
   ]
  },
  {
   "cell_type": "markdown",
   "metadata": {},
   "source": [
    "## Reading Score by Grade "
   ]
  },
  {
   "cell_type": "markdown",
   "metadata": {},
   "source": [
    "* Perform the same operations as above for reading scores"
   ]
  },
  {
   "cell_type": "code",
   "execution_count": 21,
   "metadata": {},
   "outputs": [
    {
     "data": {
      "text/html": [
       "<div>\n",
       "<style scoped>\n",
       "    .dataframe tbody tr th:only-of-type {\n",
       "        vertical-align: middle;\n",
       "    }\n",
       "\n",
       "    .dataframe tbody tr th {\n",
       "        vertical-align: top;\n",
       "    }\n",
       "\n",
       "    .dataframe thead th {\n",
       "        text-align: right;\n",
       "    }\n",
       "</style>\n",
       "<table border=\"1\" class=\"dataframe\">\n",
       "  <thead>\n",
       "    <tr style=\"text-align: right;\">\n",
       "      <th></th>\n",
       "      <th>9th</th>\n",
       "      <th>10th</th>\n",
       "      <th>11th</th>\n",
       "      <th>12th</th>\n",
       "    </tr>\n",
       "    <tr>\n",
       "      <th>school_name</th>\n",
       "      <th></th>\n",
       "      <th></th>\n",
       "      <th></th>\n",
       "      <th></th>\n",
       "    </tr>\n",
       "  </thead>\n",
       "  <tbody>\n",
       "    <tr>\n",
       "      <th>Bailey High School</th>\n",
       "      <td>81.303155</td>\n",
       "      <td>80.907183</td>\n",
       "      <td>80.945643</td>\n",
       "      <td>80.912451</td>\n",
       "    </tr>\n",
       "    <tr>\n",
       "      <th>Cabrera High School</th>\n",
       "      <td>83.676136</td>\n",
       "      <td>84.253219</td>\n",
       "      <td>83.788382</td>\n",
       "      <td>84.287958</td>\n",
       "    </tr>\n",
       "    <tr>\n",
       "      <th>Figueroa High School</th>\n",
       "      <td>81.198598</td>\n",
       "      <td>81.408912</td>\n",
       "      <td>80.640339</td>\n",
       "      <td>81.384863</td>\n",
       "    </tr>\n",
       "    <tr>\n",
       "      <th>Ford High School</th>\n",
       "      <td>80.632653</td>\n",
       "      <td>81.262712</td>\n",
       "      <td>80.403642</td>\n",
       "      <td>80.662338</td>\n",
       "    </tr>\n",
       "    <tr>\n",
       "      <th>Griffin High School</th>\n",
       "      <td>83.369193</td>\n",
       "      <td>83.706897</td>\n",
       "      <td>84.288089</td>\n",
       "      <td>84.013699</td>\n",
       "    </tr>\n",
       "    <tr>\n",
       "      <th>Hernandez High School</th>\n",
       "      <td>80.866860</td>\n",
       "      <td>80.660147</td>\n",
       "      <td>81.396140</td>\n",
       "      <td>80.857143</td>\n",
       "    </tr>\n",
       "    <tr>\n",
       "      <th>Holden High School</th>\n",
       "      <td>83.677165</td>\n",
       "      <td>83.324561</td>\n",
       "      <td>83.815534</td>\n",
       "      <td>84.698795</td>\n",
       "    </tr>\n",
       "    <tr>\n",
       "      <th>Huang High School</th>\n",
       "      <td>81.290284</td>\n",
       "      <td>81.512386</td>\n",
       "      <td>81.417476</td>\n",
       "      <td>80.305983</td>\n",
       "    </tr>\n",
       "    <tr>\n",
       "      <th>Johnson High School</th>\n",
       "      <td>81.260714</td>\n",
       "      <td>80.773431</td>\n",
       "      <td>80.616027</td>\n",
       "      <td>81.227564</td>\n",
       "    </tr>\n",
       "    <tr>\n",
       "      <th>Pena High School</th>\n",
       "      <td>83.807273</td>\n",
       "      <td>83.612000</td>\n",
       "      <td>84.335938</td>\n",
       "      <td>84.591160</td>\n",
       "    </tr>\n",
       "    <tr>\n",
       "      <th>Rodriguez High School</th>\n",
       "      <td>80.993127</td>\n",
       "      <td>80.629808</td>\n",
       "      <td>80.864811</td>\n",
       "      <td>80.376426</td>\n",
       "    </tr>\n",
       "    <tr>\n",
       "      <th>Shelton High School</th>\n",
       "      <td>84.122642</td>\n",
       "      <td>83.441964</td>\n",
       "      <td>84.373786</td>\n",
       "      <td>82.781671</td>\n",
       "    </tr>\n",
       "    <tr>\n",
       "      <th>Thomas High School</th>\n",
       "      <td>83.728850</td>\n",
       "      <td>84.254157</td>\n",
       "      <td>83.585542</td>\n",
       "      <td>83.831361</td>\n",
       "    </tr>\n",
       "    <tr>\n",
       "      <th>Wilson High School</th>\n",
       "      <td>83.939778</td>\n",
       "      <td>84.021452</td>\n",
       "      <td>83.764608</td>\n",
       "      <td>84.317673</td>\n",
       "    </tr>\n",
       "    <tr>\n",
       "      <th>Wright High School</th>\n",
       "      <td>83.833333</td>\n",
       "      <td>83.812757</td>\n",
       "      <td>84.156322</td>\n",
       "      <td>84.073171</td>\n",
       "    </tr>\n",
       "  </tbody>\n",
       "</table>\n",
       "</div>"
      ],
      "text/plain": [
       "                             9th       10th       11th       12th\n",
       "school_name                                                      \n",
       "Bailey High School     81.303155  80.907183  80.945643  80.912451\n",
       "Cabrera High School    83.676136  84.253219  83.788382  84.287958\n",
       "Figueroa High School   81.198598  81.408912  80.640339  81.384863\n",
       "Ford High School       80.632653  81.262712  80.403642  80.662338\n",
       "Griffin High School    83.369193  83.706897  84.288089  84.013699\n",
       "Hernandez High School  80.866860  80.660147  81.396140  80.857143\n",
       "Holden High School     83.677165  83.324561  83.815534  84.698795\n",
       "Huang High School      81.290284  81.512386  81.417476  80.305983\n",
       "Johnson High School    81.260714  80.773431  80.616027  81.227564\n",
       "Pena High School       83.807273  83.612000  84.335938  84.591160\n",
       "Rodriguez High School  80.993127  80.629808  80.864811  80.376426\n",
       "Shelton High School    84.122642  83.441964  84.373786  82.781671\n",
       "Thomas High School     83.728850  84.254157  83.585542  83.831361\n",
       "Wilson High School     83.939778  84.021452  83.764608  84.317673\n",
       "Wright High School     83.833333  83.812757  84.156322  84.073171"
      ]
     },
     "execution_count": 21,
     "metadata": {},
     "output_type": "execute_result"
    }
   ],
   "source": [
    "# Using dataframe 'ninth' group students by 'school_name' and calculate mean of 'reading_score' for each school\n",
    "ninth_avg_reading_score = ninth.groupby(\"school_name\")[\"reading_score\"].mean()\n",
    "\n",
    "# Using dataframe 'tenth' group students by 'school_name' and calculate mean of 'reading_score' for each school\n",
    "tenth_avg_reading_score = tenth.groupby(\"school_name\")[\"reading_score\"].mean()\n",
    "\n",
    "# Using dataframe 'eleventh' group students by 'school_name' and calculate mean of 'reading_score' for each school\n",
    "eleventh_avg_reading_score = eleventh.groupby(\"school_name\")[\"reading_score\"].mean()\n",
    "\n",
    "# Using dataframe 'twelvth' group students by 'school_name' and calculate mean of 'reading_score' for each school\n",
    "twelvth_avg_reading_score = twelvth.groupby(\"school_name\")[\"reading_score\"].mean()\n",
    "\n",
    "# Combine all series from above into a dataframe using grade (\"9th\", \"10th\", etc.) as column headers\n",
    "# Index of rows will be 'school_name' since the above series were all grouped by 'school_name'\n",
    "reading_scores_by_grade = pd.DataFrame({\"9th\": ninth_avg_reading_score,\n",
    "                        \"10th\": tenth_avg_reading_score,\n",
    "                        \"11th\": eleventh_avg_reading_score,\n",
    "                        \"12th\": twelvth_avg_reading_score})\n",
    "\n",
    "reading_scores_by_grade"
   ]
  },
  {
   "cell_type": "markdown",
   "metadata": {},
   "source": [
    "## Scores by School Spending"
   ]
  },
  {
   "cell_type": "markdown",
   "metadata": {},
   "source": [
    "* Create a table that breaks down school performances based on average Spending Ranges (Per Student). Use 4 reasonable bins to group school spending. Include in the table each of the following:\n",
    "  * Average Math Score\n",
    "  * Average Reading Score\n",
    "  * % Passing Math\n",
    "  * % Passing Reading\n",
    "  * Overall Passing Rate (Average of the above two)"
   ]
  },
  {
   "cell_type": "code",
   "execution_count": 22,
   "metadata": {},
   "outputs": [],
   "source": [
    "# Create lists of bins (spending_bins) and bin labels (group_names)\n",
    "spending_bins = [0, 585, 615, 645, 675]\n",
    "group_names = [\"<$585\", \"$585-615\", \"$615-645\", \"$645-675\"]"
   ]
  },
  {
   "cell_type": "code",
   "execution_count": 23,
   "metadata": {},
   "outputs": [],
   "source": [
    "# Drop columns in order to create dataframe 'df_school_spending' \n",
    "df_school_spending = df_stats_per_school.drop(columns = [\"School Type\", \"Total Students\", \"Total School Budget\"])"
   ]
  },
  {
   "cell_type": "code",
   "execution_count": 24,
   "metadata": {},
   "outputs": [],
   "source": [
    "# Convert columns of 'df_school_spending' to numeric\n",
    "cols = df_school_spending.columns\n",
    "df_school_spending[cols] = df_school_spending[cols].apply(pd.to_numeric, errors='coerce')"
   ]
  },
  {
   "cell_type": "code",
   "execution_count": 25,
   "metadata": {},
   "outputs": [
    {
     "data": {
      "text/html": [
       "<div>\n",
       "<style scoped>\n",
       "    .dataframe tbody tr th:only-of-type {\n",
       "        vertical-align: middle;\n",
       "    }\n",
       "\n",
       "    .dataframe tbody tr th {\n",
       "        vertical-align: top;\n",
       "    }\n",
       "\n",
       "    .dataframe thead th {\n",
       "        text-align: right;\n",
       "    }\n",
       "</style>\n",
       "<table border=\"1\" class=\"dataframe\">\n",
       "  <thead>\n",
       "    <tr style=\"text-align: right;\">\n",
       "      <th></th>\n",
       "      <th>Average Math Score</th>\n",
       "      <th>Average Reading Score</th>\n",
       "      <th>% Passing Math</th>\n",
       "      <th>% Passing Reading</th>\n",
       "      <th>% Overall Passing Rate</th>\n",
       "    </tr>\n",
       "    <tr>\n",
       "      <th>bin</th>\n",
       "      <th></th>\n",
       "      <th></th>\n",
       "      <th></th>\n",
       "      <th></th>\n",
       "      <th></th>\n",
       "    </tr>\n",
       "  </thead>\n",
       "  <tbody>\n",
       "    <tr>\n",
       "      <th>&lt;$585</th>\n",
       "      <td>83.455399</td>\n",
       "      <td>83.933814</td>\n",
       "      <td>93.460096</td>\n",
       "      <td>96.610877</td>\n",
       "      <td>95.035486</td>\n",
       "    </tr>\n",
       "    <tr>\n",
       "      <th>$585-615</th>\n",
       "      <td>83.599686</td>\n",
       "      <td>83.885211</td>\n",
       "      <td>94.230858</td>\n",
       "      <td>95.900287</td>\n",
       "      <td>95.065572</td>\n",
       "    </tr>\n",
       "    <tr>\n",
       "      <th>$615-645</th>\n",
       "      <td>79.079225</td>\n",
       "      <td>81.891436</td>\n",
       "      <td>75.668212</td>\n",
       "      <td>86.106569</td>\n",
       "      <td>80.887391</td>\n",
       "    </tr>\n",
       "    <tr>\n",
       "      <th>$645-675</th>\n",
       "      <td>76.997210</td>\n",
       "      <td>81.027843</td>\n",
       "      <td>66.164813</td>\n",
       "      <td>81.133951</td>\n",
       "      <td>73.649382</td>\n",
       "    </tr>\n",
       "  </tbody>\n",
       "</table>\n",
       "</div>"
      ],
      "text/plain": [
       "          Average Math Score  Average Reading Score  % Passing Math  \\\n",
       "bin                                                                   \n",
       "<$585              83.455399              83.933814       93.460096   \n",
       "$585-615           83.599686              83.885211       94.230858   \n",
       "$615-645           79.079225              81.891436       75.668212   \n",
       "$645-675           76.997210              81.027843       66.164813   \n",
       "\n",
       "          % Passing Reading  % Overall Passing Rate  \n",
       "bin                                                  \n",
       "<$585             96.610877               95.035486  \n",
       "$585-615          95.900287               95.065572  \n",
       "$615-645          86.106569               80.887391  \n",
       "$645-675          81.133951               73.649382  "
      ]
     },
     "execution_count": 25,
     "metadata": {},
     "output_type": "execute_result"
    }
   ],
   "source": [
    "# Organize the 'df_school_spending' into bins using the 'Per Student Budget'.\n",
    "# Create new column 'bin' to show which bin each row belongs to\n",
    "df_school_spending[\"bin\"] = pd.cut(df_school_spending[\"Per Student Budget\"], bins=spending_bins, labels=group_names)\n",
    "\n",
    "# Create groupby object using column 'bin'\n",
    "grouped_by_bins_spending = df_school_spending.groupby(\"bin\")\n",
    "# Create new dataframe using the mean of all columns in 'grouped_by_bins_spending'\n",
    "df_school_spending_by_bins = grouped_by_bins_spending.mean()\n",
    "\n",
    "# Delete column 'Per Student Budget' from 'df_school_spending_by_bins'\n",
    "df_school_spending_by_bins = df_school_spending_by_bins.drop(columns = [\"Per Student Budget\"])\n",
    "df_school_spending_by_bins"
   ]
  },
  {
   "cell_type": "markdown",
   "metadata": {},
   "source": [
    "## Scores by School Size"
   ]
  },
  {
   "cell_type": "markdown",
   "metadata": {},
   "source": [
    "* Perform the same operations as above, based on school size."
   ]
  },
  {
   "cell_type": "code",
   "execution_count": 26,
   "metadata": {},
   "outputs": [],
   "source": [
    "# Create lists of bins (size_bins) and bin labels (group_names)\n",
    "size_bins = [0, 1000, 2000, 5000]\n",
    "group_names = [\"Small (<1000)\", \"Medium (1000-2000)\", \"Large (2000-5000)\"]"
   ]
  },
  {
   "cell_type": "code",
   "execution_count": 27,
   "metadata": {},
   "outputs": [],
   "source": [
    "# Drop columns in order to create dataframe 'df_school_size' \n",
    "df_school_size = df_stats_per_school.drop(columns = [\"School Type\", \"Per Student Budget\", \"Total School Budget\"])"
   ]
  },
  {
   "cell_type": "code",
   "execution_count": 28,
   "metadata": {},
   "outputs": [],
   "source": [
    "# Convert columns of 'df_school_size' to numeric\n",
    "cols = df_school_size.columns\n",
    "df_school_size[cols] = df_school_size[cols].apply(pd.to_numeric, errors='coerce')"
   ]
  },
  {
   "cell_type": "code",
   "execution_count": 29,
   "metadata": {},
   "outputs": [
    {
     "data": {
      "text/html": [
       "<div>\n",
       "<style scoped>\n",
       "    .dataframe tbody tr th:only-of-type {\n",
       "        vertical-align: middle;\n",
       "    }\n",
       "\n",
       "    .dataframe tbody tr th {\n",
       "        vertical-align: top;\n",
       "    }\n",
       "\n",
       "    .dataframe thead th {\n",
       "        text-align: right;\n",
       "    }\n",
       "</style>\n",
       "<table border=\"1\" class=\"dataframe\">\n",
       "  <thead>\n",
       "    <tr style=\"text-align: right;\">\n",
       "      <th></th>\n",
       "      <th>Average Math Score</th>\n",
       "      <th>Average Reading Score</th>\n",
       "      <th>% Passing Math</th>\n",
       "      <th>% Passing Reading</th>\n",
       "      <th>% Overall Passing Rate</th>\n",
       "    </tr>\n",
       "    <tr>\n",
       "      <th>bin</th>\n",
       "      <th></th>\n",
       "      <th></th>\n",
       "      <th></th>\n",
       "      <th></th>\n",
       "      <th></th>\n",
       "    </tr>\n",
       "  </thead>\n",
       "  <tbody>\n",
       "    <tr>\n",
       "      <th>Small (&lt;1000)</th>\n",
       "      <td>83.821598</td>\n",
       "      <td>83.929843</td>\n",
       "      <td>93.550225</td>\n",
       "      <td>96.099437</td>\n",
       "      <td>94.824831</td>\n",
       "    </tr>\n",
       "    <tr>\n",
       "      <th>Medium (1000-2000)</th>\n",
       "      <td>83.374684</td>\n",
       "      <td>83.864438</td>\n",
       "      <td>93.599695</td>\n",
       "      <td>96.790680</td>\n",
       "      <td>95.195187</td>\n",
       "    </tr>\n",
       "    <tr>\n",
       "      <th>Large (2000-5000)</th>\n",
       "      <td>77.746417</td>\n",
       "      <td>81.344493</td>\n",
       "      <td>69.963361</td>\n",
       "      <td>82.766634</td>\n",
       "      <td>76.364998</td>\n",
       "    </tr>\n",
       "  </tbody>\n",
       "</table>\n",
       "</div>"
      ],
      "text/plain": [
       "                    Average Math Score  Average Reading Score  % Passing Math  \\\n",
       "bin                                                                             \n",
       "Small (<1000)                83.821598              83.929843       93.550225   \n",
       "Medium (1000-2000)           83.374684              83.864438       93.599695   \n",
       "Large (2000-5000)            77.746417              81.344493       69.963361   \n",
       "\n",
       "                    % Passing Reading  % Overall Passing Rate  \n",
       "bin                                                            \n",
       "Small (<1000)               96.099437               94.824831  \n",
       "Medium (1000-2000)          96.790680               95.195187  \n",
       "Large (2000-5000)           82.766634               76.364998  "
      ]
     },
     "execution_count": 29,
     "metadata": {},
     "output_type": "execute_result"
    }
   ],
   "source": [
    "# Organize the 'df_school_size' into bins using the 'Total Students'.\n",
    "# Create new column 'bin' to show which bin each row belongs to\n",
    "df_school_size[\"bin\"] = pd.cut(df_school_size[\"Total Students\"], bins=size_bins, labels=group_names)\n",
    "\n",
    "# Create groupby object using column 'bin'\n",
    "grouped_by_bins_size = df_school_size.groupby(\"bin\")\n",
    "# Create new dataframe using the mean of all columns in 'grouped_by_bins_size'\n",
    "df_school_size_by_bins = grouped_by_bins_size.mean()\n",
    "\n",
    "# Delete column 'Total Students' from 'df_school_size_by_bins'\n",
    "df_school_size_by_bins = df_school_size_by_bins.drop(columns = [\"Total Students\"])\n",
    "df_school_size_by_bins"
   ]
  },
  {
   "cell_type": "markdown",
   "metadata": {},
   "source": [
    "## Scores by School Type"
   ]
  },
  {
   "cell_type": "markdown",
   "metadata": {},
   "source": [
    "* Perform the same operations as above, based on school type."
   ]
  },
  {
   "cell_type": "code",
   "execution_count": 30,
   "metadata": {},
   "outputs": [],
   "source": [
    "# Drop columns in order to create dataframe 'df_by_school_type' \n",
    "df_by_school_type = df_stats_per_school.drop(columns = [\"Total Students\", \"Per Student Budget\", \"Total School Budget\"])\n"
   ]
  },
  {
   "cell_type": "code",
   "execution_count": 31,
   "metadata": {},
   "outputs": [],
   "source": [
    "# Convert columns of 'df_by_school_type' to numeric\n",
    "df_by_school_type[\"Average Math Score\"] = pd.to_numeric(df_by_school_type[\"Average Math Score\"])\n",
    "df_by_school_type[\"Average Reading Score\"] = pd.to_numeric(df_by_school_type[\"Average Reading Score\"])\n",
    "df_by_school_type[\"% Passing Math\"] = pd.to_numeric(df_by_school_type[\"% Passing Math\"])\n",
    "df_by_school_type[\"% Passing Reading\"] = pd.to_numeric(df_by_school_type[\"% Passing Reading\"])\n",
    "df_by_school_type[\"% Overall Passing Rate\"] = pd.to_numeric(df_by_school_type[\"% Overall Passing Rate\"])"
   ]
  },
  {
   "cell_type": "code",
   "execution_count": 32,
   "metadata": {
    "scrolled": false
   },
   "outputs": [
    {
     "data": {
      "text/html": [
       "<div>\n",
       "<style scoped>\n",
       "    .dataframe tbody tr th:only-of-type {\n",
       "        vertical-align: middle;\n",
       "    }\n",
       "\n",
       "    .dataframe tbody tr th {\n",
       "        vertical-align: top;\n",
       "    }\n",
       "\n",
       "    .dataframe thead th {\n",
       "        text-align: right;\n",
       "    }\n",
       "</style>\n",
       "<table border=\"1\" class=\"dataframe\">\n",
       "  <thead>\n",
       "    <tr style=\"text-align: right;\">\n",
       "      <th></th>\n",
       "      <th>Average Math Score</th>\n",
       "      <th>Average Reading Score</th>\n",
       "      <th>% Passing Math</th>\n",
       "      <th>% Passing Reading</th>\n",
       "      <th>% Overall Passing Rate</th>\n",
       "    </tr>\n",
       "    <tr>\n",
       "      <th>School Type</th>\n",
       "      <th></th>\n",
       "      <th></th>\n",
       "      <th></th>\n",
       "      <th></th>\n",
       "      <th></th>\n",
       "    </tr>\n",
       "  </thead>\n",
       "  <tbody>\n",
       "    <tr>\n",
       "      <th>Charter</th>\n",
       "      <td>83.473852</td>\n",
       "      <td>83.896421</td>\n",
       "      <td>93.620830</td>\n",
       "      <td>96.586489</td>\n",
       "      <td>95.103660</td>\n",
       "    </tr>\n",
       "    <tr>\n",
       "      <th>District</th>\n",
       "      <td>76.956733</td>\n",
       "      <td>80.966636</td>\n",
       "      <td>66.548453</td>\n",
       "      <td>80.799062</td>\n",
       "      <td>73.673757</td>\n",
       "    </tr>\n",
       "  </tbody>\n",
       "</table>\n",
       "</div>"
      ],
      "text/plain": [
       "             Average Math Score  Average Reading Score  % Passing Math  \\\n",
       "School Type                                                              \n",
       "Charter               83.473852              83.896421       93.620830   \n",
       "District              76.956733              80.966636       66.548453   \n",
       "\n",
       "             % Passing Reading  % Overall Passing Rate  \n",
       "School Type                                             \n",
       "Charter              96.586489               95.103660  \n",
       "District             80.799062               73.673757  "
      ]
     },
     "execution_count": 32,
     "metadata": {},
     "output_type": "execute_result"
    }
   ],
   "source": [
    "# Group using 'School Type' and calculate the mean of all values in each group for every column\n",
    "# Store this in new dataframe called 'df_by_school_type' \n",
    "df_by_school_type = df_by_school_type.groupby(\"School Type\").mean()\n",
    "df_by_school_type"
   ]
  },
  {
   "cell_type": "markdown",
   "metadata": {},
   "source": [
    "# Observable Trends\n"
   ]
  },
  {
   "cell_type": "markdown",
   "metadata": {},
   "source": [
    "1) Small and medium size schools have a higher overall passing rate"
   ]
  },
  {
   "cell_type": "markdown",
   "metadata": {},
   "source": [
    "2) Charter schools also have a higher overall passing rate. Charter schools also tend to be smaller"
   ]
  },
  {
   "cell_type": "markdown",
   "metadata": {},
   "source": [
    "3) A higher per student budget does not translate into better scores. "
   ]
  },
  {
   "cell_type": "markdown",
   "metadata": {},
   "source": [
    "Overall, the biggest factor seems to be school size. I would be curious to look at data that involves class size and see if that would factor in as well."
   ]
  }
 ],
 "metadata": {
  "anaconda-cloud": {},
  "kernel_info": {
   "name": "python3"
  },
  "kernelspec": {
   "display_name": "Python 3",
   "language": "python",
   "name": "python3"
  },
  "language_info": {
   "codemirror_mode": {
    "name": "ipython",
    "version": 3
   },
   "file_extension": ".py",
   "mimetype": "text/x-python",
   "name": "python",
   "nbconvert_exporter": "python",
   "pygments_lexer": "ipython3",
   "version": "3.7.3"
  },
  "nteract": {
   "version": "0.8.4"
  }
 },
 "nbformat": 4,
 "nbformat_minor": 1
}
